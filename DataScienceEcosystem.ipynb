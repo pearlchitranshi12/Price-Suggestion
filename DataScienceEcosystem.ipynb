{
 "cells": [
  {
   "cell_type": "markdown",
   "id": "5be40f7b",
   "metadata": {},
   "source": [
    "# Data Science Tools and Ecosystem"
   ]
  },
  {
   "cell_type": "markdown",
   "id": "9f806fec",
   "metadata": {},
   "source": [
    "## In this notebook, Data Science Tools and Ecosystem are summarized."
   ]
  },
  {
   "cell_type": "markdown",
   "id": "e2cfc955",
   "metadata": {},
   "source": [
    "## Objectives\n",
    "1. This Notebook will cover some popular languages data scientists commonly use\n",
    "2. What all Libraries we can use to get some EDA\n",
    "3. How a basic arithmetic operations are performed \n",
    "4. How we can use comment section to help users understand what code block will be used"
   ]
  },
  {
   "cell_type": "markdown",
   "id": "cfeb3ad4",
   "metadata": {},
   "source": [
    "### Some popular programming languages that data scientists commonly use\n",
    "1. Python\n",
    "2. R\n",
    "3. SQL"
   ]
  },
  {
   "cell_type": "markdown",
   "id": "7b3b5689",
   "metadata": {},
   "source": [
    "### Some of the commonly used libraries used by Data Scientists include:\n",
    "1. Numpy\n",
    "2. Pandas\n",
    "3. Matplotlib"
   ]
  },
  {
   "cell_type": "markdown",
   "id": "00bf5925",
   "metadata": {},
   "source": [
    "### Datascience Tools used are:\n",
    "| Data Science Tools |\n",
    "|---|\n",
    "|1. Jupyter Notebook |\n",
    "|2. RStudio |\n",
    "|3. Visual Studio Code |"
   ]
  },
  {
   "cell_type": "markdown",
   "id": "220f7bbc",
   "metadata": {},
   "source": [
    "### Below are a few examples of evaluating arithmetic expressions in Python"
   ]
  },
  {
   "cell_type": "code",
   "execution_count": 3,
   "id": "de9efab7",
   "metadata": {},
   "outputs": [
    {
     "name": "stdout",
     "output_type": "stream",
     "text": [
      "17\n"
     ]
    }
   ],
   "source": [
    "#This a simple arithmetic expression to mutiply then add integers.\n",
    "a =(3*4)+5\n",
    "print(a)"
   ]
  },
  {
   "cell_type": "code",
   "execution_count": 5,
   "id": "33d44434",
   "metadata": {},
   "outputs": [
    {
     "name": "stdout",
     "output_type": "stream",
     "text": [
      "Time in Hours: 3.3333333333333335\n"
     ]
    }
   ],
   "source": [
    "#This will convert 200 minutes to hours by diving by 60\n",
    "time_convert=200/60\n",
    "print('Time in Hours:',time_convert)"
   ]
  },
  {
   "cell_type": "markdown",
   "id": "23025641",
   "metadata": {},
   "source": [
    "## Author \n",
    " Pearl Chitranshi "
   ]
  },
  {
   "cell_type": "code",
   "execution_count": null,
   "id": "086d0d3e",
   "metadata": {},
   "outputs": [],
   "source": []
  }
 ],
 "metadata": {
  "kernelspec": {
   "display_name": "Python 3 (ipykernel)",
   "language": "python",
   "name": "python3"
  },
  "language_info": {
   "codemirror_mode": {
    "name": "ipython",
    "version": 3
   },
   "file_extension": ".py",
   "mimetype": "text/x-python",
   "name": "python",
   "nbconvert_exporter": "python",
   "pygments_lexer": "ipython3",
   "version": "3.10.9"
  }
 },
 "nbformat": 4,
 "nbformat_minor": 5
}
